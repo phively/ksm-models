{
 "cells": [
  {
   "attachments": {},
   "cell_type": "markdown",
   "metadata": {},
   "source": [
    "# Feature engineering with Featuretools"
   ]
  },
  {
   "attachments": {},
   "cell_type": "markdown",
   "metadata": {},
   "source": [
    "# Goals\n",
    "\n",
    "* Test viable Featuretools transformations on a reduced dataset\n",
    "* Benchmark Featuretools performance\n",
    "* Create a large dataset for later modeling approaches"
   ]
  },
  {
   "attachments": {},
   "cell_type": "markdown",
   "metadata": {},
   "source": [
    "## Setup"
   ]
  },
  {
   "cell_type": "code",
   "execution_count": 12,
   "metadata": {},
   "outputs": [],
   "source": [
    "import featuretools as ft\n",
    "import pandas as pd"
   ]
  },
  {
   "attachments": {},
   "cell_type": "markdown",
   "metadata": {},
   "source": [
    "## Data import\n",
    "\n",
    "### Households"
   ]
  },
  {
   "cell_type": "code",
   "execution_count": 2,
   "metadata": {},
   "outputs": [],
   "source": [
    "household_degrees = pd.read_excel('data/2023-06-14 Household degrees.xlsx')"
   ]
  },
  {
   "cell_type": "code",
   "execution_count": 3,
   "metadata": {},
   "outputs": [
    {
     "data": {
      "text/plain": [
       "HOUSEHOLD_ID                            int64\n",
       "HOUSEHOLD_RPT_NAME                     object\n",
       "DEGREES_CONCAT                         object\n",
       "HOUSEHOLD_SPOUSE_ID                    object\n",
       "SPOUSE_DEGREES_CONCAT                  object\n",
       "HOUSEHOLD_RECORD                       object\n",
       "PERSON_OR_ORG                          object\n",
       "HOUSEHOLD_KSM_YEAR                      int64\n",
       "FIRST_KSM_GRAD_DT              datetime64[ns]\n",
       "RECORD_STATUS_CODE                     object\n",
       "STATUS_CHANGE_DATE             datetime64[ns]\n",
       "ENTITY_DEATH_DT                datetime64[ns]\n",
       "HOUSEHOLD_MASTERS_YEAR                float64\n",
       "HOUSEHOLD_LAST_MASTERS_YEAR           float64\n",
       "HOUSEHOLD_PROGRAM                      object\n",
       "HOUSEHOLD_PROGRAM_GROUP                object\n",
       "dtype: object"
      ]
     },
     "execution_count": 3,
     "metadata": {},
     "output_type": "execute_result"
    }
   ],
   "source": [
    "household_degrees.dtypes"
   ]
  },
  {
   "cell_type": "code",
   "execution_count": 63,
   "metadata": {},
   "outputs": [],
   "source": [
    "# Function to convert columns to factor or other datatype\n",
    "def convert_columns_to_type(df, colnames, dtype = 'category'):\n",
    "    for col in colnames:\n",
    "        df[col] = df[col].astype(dtype)\n",
    "\n",
    "# Function to convert year number to date (default: end of fiscal year date)\n",
    "def year_to_fiscal_date(df, year, month = 9, day = 1):\n",
    "    return pd.to_datetime(dict(year = df[year], month = month, day = day))"
   ]
  },
  {
   "cell_type": "code",
   "execution_count": 5,
   "metadata": {},
   "outputs": [],
   "source": [
    "convert_columns_to_type(\n",
    "    household_degrees\n",
    "    , ('PERSON_OR_ORG', 'HOUSEHOLD_RECORD', 'RECORD_STATUS_CODE', 'HOUSEHOLD_PROGRAM', 'HOUSEHOLD_PROGRAM_GROUP')\n",
    "    , dtype = 'category'\n",
    ")"
   ]
  },
  {
   "cell_type": "code",
   "execution_count": 6,
   "metadata": {},
   "outputs": [
    {
     "data": {
      "text/html": [
       "<div>\n",
       "<style scoped>\n",
       "    .dataframe tbody tr th:only-of-type {\n",
       "        vertical-align: middle;\n",
       "    }\n",
       "\n",
       "    .dataframe tbody tr th {\n",
       "        vertical-align: top;\n",
       "    }\n",
       "\n",
       "    .dataframe thead th {\n",
       "        text-align: right;\n",
       "    }\n",
       "</style>\n",
       "<table border=\"1\" class=\"dataframe\">\n",
       "  <thead>\n",
       "    <tr style=\"text-align: right;\">\n",
       "      <th></th>\n",
       "      <th>HOUSEHOLD_ID</th>\n",
       "      <th>HOUSEHOLD_RECORD</th>\n",
       "      <th>PERSON_OR_ORG</th>\n",
       "      <th>HOUSEHOLD_KSM_YEAR</th>\n",
       "      <th>RECORD_STATUS_CODE</th>\n",
       "      <th>HOUSEHOLD_PROGRAM</th>\n",
       "    </tr>\n",
       "  </thead>\n",
       "  <tbody>\n",
       "    <tr>\n",
       "      <th>0</th>\n",
       "      <td>1858</td>\n",
       "      <td>AL</td>\n",
       "      <td>P</td>\n",
       "      <td>1932</td>\n",
       "      <td>D</td>\n",
       "      <td>FT-CB</td>\n",
       "    </tr>\n",
       "    <tr>\n",
       "      <th>1</th>\n",
       "      <td>1869</td>\n",
       "      <td>AL</td>\n",
       "      <td>P</td>\n",
       "      <td>1915</td>\n",
       "      <td>D</td>\n",
       "      <td>FT-CB</td>\n",
       "    </tr>\n",
       "    <tr>\n",
       "      <th>2</th>\n",
       "      <td>1879</td>\n",
       "      <td>AL</td>\n",
       "      <td>P</td>\n",
       "      <td>1929</td>\n",
       "      <td>D</td>\n",
       "      <td>FT-CB</td>\n",
       "    </tr>\n",
       "    <tr>\n",
       "      <th>3</th>\n",
       "      <td>1882</td>\n",
       "      <td>AL</td>\n",
       "      <td>P</td>\n",
       "      <td>1913</td>\n",
       "      <td>D</td>\n",
       "      <td>FT-CB</td>\n",
       "    </tr>\n",
       "    <tr>\n",
       "      <th>4</th>\n",
       "      <td>1900</td>\n",
       "      <td>AL</td>\n",
       "      <td>P</td>\n",
       "      <td>1911</td>\n",
       "      <td>D</td>\n",
       "      <td>FT-CB</td>\n",
       "    </tr>\n",
       "  </tbody>\n",
       "</table>\n",
       "</div>"
      ],
      "text/plain": [
       "   HOUSEHOLD_ID HOUSEHOLD_RECORD PERSON_OR_ORG  HOUSEHOLD_KSM_YEAR  \\\n",
       "0          1858               AL             P                1932   \n",
       "1          1869               AL             P                1915   \n",
       "2          1879               AL             P                1929   \n",
       "3          1882               AL             P                1913   \n",
       "4          1900               AL             P                1911   \n",
       "\n",
       "  RECORD_STATUS_CODE HOUSEHOLD_PROGRAM  \n",
       "0                  D             FT-CB  \n",
       "1                  D             FT-CB  \n",
       "2                  D             FT-CB  \n",
       "3                  D             FT-CB  \n",
       "4                  D             FT-CB  "
      ]
     },
     "execution_count": 6,
     "metadata": {},
     "output_type": "execute_result"
    }
   ],
   "source": [
    "household_degrees[['HOUSEHOLD_ID', 'HOUSEHOLD_RECORD', 'PERSON_OR_ORG', 'HOUSEHOLD_KSM_YEAR', 'RECORD_STATUS_CODE', 'HOUSEHOLD_PROGRAM']].head()"
   ]
  },
  {
   "cell_type": "code",
   "execution_count": 61,
   "metadata": {},
   "outputs": [],
   "source": [
    "household_degrees['HOUSEHOLD_KSM_DT'] = year_to_fiscal_date(df = household_degrees, year = 'HOUSEHOLD_KSM_YEAR')"
   ]
  },
  {
   "cell_type": "code",
   "execution_count": 64,
   "metadata": {},
   "outputs": [
    {
     "data": {
      "text/html": [
       "<div>\n",
       "<style scoped>\n",
       "    .dataframe tbody tr th:only-of-type {\n",
       "        vertical-align: middle;\n",
       "    }\n",
       "\n",
       "    .dataframe tbody tr th {\n",
       "        vertical-align: top;\n",
       "    }\n",
       "\n",
       "    .dataframe thead th {\n",
       "        text-align: right;\n",
       "    }\n",
       "</style>\n",
       "<table border=\"1\" class=\"dataframe\">\n",
       "  <thead>\n",
       "    <tr style=\"text-align: right;\">\n",
       "      <th></th>\n",
       "      <th>HOUSEHOLD_KSM_YEAR</th>\n",
       "      <th>HOUSEHOLD_KSM_DT</th>\n",
       "    </tr>\n",
       "  </thead>\n",
       "  <tbody>\n",
       "    <tr>\n",
       "      <th>0</th>\n",
       "      <td>1932</td>\n",
       "      <td>1932-09-01</td>\n",
       "    </tr>\n",
       "    <tr>\n",
       "      <th>1</th>\n",
       "      <td>1915</td>\n",
       "      <td>1915-09-01</td>\n",
       "    </tr>\n",
       "    <tr>\n",
       "      <th>2</th>\n",
       "      <td>1929</td>\n",
       "      <td>1929-09-01</td>\n",
       "    </tr>\n",
       "    <tr>\n",
       "      <th>3</th>\n",
       "      <td>1913</td>\n",
       "      <td>1913-09-01</td>\n",
       "    </tr>\n",
       "    <tr>\n",
       "      <th>4</th>\n",
       "      <td>1911</td>\n",
       "      <td>1911-09-01</td>\n",
       "    </tr>\n",
       "  </tbody>\n",
       "</table>\n",
       "</div>"
      ],
      "text/plain": [
       "   HOUSEHOLD_KSM_YEAR HOUSEHOLD_KSM_DT\n",
       "0                1932       1932-09-01\n",
       "1                1915       1915-09-01\n",
       "2                1929       1929-09-01\n",
       "3                1913       1913-09-01\n",
       "4                1911       1911-09-01"
      ]
     },
     "execution_count": 64,
     "metadata": {},
     "output_type": "execute_result"
    }
   ],
   "source": [
    "household_degrees[['HOUSEHOLD_KSM_YEAR', 'HOUSEHOLD_KSM_DT']].head()"
   ]
  },
  {
   "attachments": {},
   "cell_type": "markdown",
   "metadata": {},
   "source": [
    "### Proposals\n",
    "\n",
    "Proposal stages: should there be one row per proposal, or one row per *stage completed* per proposal?\n",
    "\n",
    "* Advantage of rows per stage: get a count of proposals that made it to or past a given stage for any arbitrary cutoff date.\n",
    "* Advantage of one row per proposal: proposals that make it farther along don't count more than ones that only get partway.\n",
    "\n",
    "Leaning toward one row per stage. That also allows for interesting metrics like:\n",
    "\n",
    "$$\\frac{N_\\text{asked}}{N_\\text{anticipated}}$$"
   ]
  },
  {
   "cell_type": "code",
   "execution_count": 78,
   "metadata": {},
   "outputs": [],
   "source": [
    "proposals = pd.read_excel('data/2023-07-05 Proposals.xlsx', sheet_name = 'Select v_proposal_history_fast')"
   ]
  },
  {
   "cell_type": "code",
   "execution_count": 81,
   "metadata": {},
   "outputs": [
    {
     "data": {
      "text/plain": [
       "PROSPECT_ID                         int64\n",
       "PROSPECT_NAME                      object\n",
       "PROPOSAL_TYPE                      object\n",
       "PROBABILITY                        object\n",
       "PROPOSAL_STATUS                    object\n",
       "PROPOSAL_STATUS_GROUPED            object\n",
       "START_DT_CALC              datetime64[ns]\n",
       "ASK_DATE                   datetime64[ns]\n",
       "CLOSE_DT_CALC              datetime64[ns]\n",
       "TOTAL_ORIGINAL_ASK_AMT            float64\n",
       "TOTAL_ASK_AMT                     float64\n",
       "TOTAL_ANTICIPATED_AMT             float64\n",
       "TOTAL_GRANTED_AMT                 float64\n",
       "dtype: object"
      ]
     },
     "execution_count": 81,
     "metadata": {},
     "output_type": "execute_result"
    }
   ],
   "source": [
    "proposals.dtypes"
   ]
  },
  {
   "cell_type": "code",
   "execution_count": 82,
   "metadata": {},
   "outputs": [],
   "source": [
    "convert_columns_to_type(\n",
    "    proposals\n",
    "    , colnames = ('PROPOSAL_TYPE', 'PROPOSAL_STATUS', 'PROPOSAL_STATUS_GROUPED')\n",
    "    , dtype = 'category'\n",
    ")"
   ]
  },
  {
   "cell_type": "code",
   "execution_count": 96,
   "metadata": {},
   "outputs": [
    {
     "data": {
      "text/plain": [
       "PROPOSAL_STATUS_GROUPED  PROPOSAL_STATUS\n",
       "Funded/Approved          Funded             37\n",
       "Declined/Withdrawn       Withdrawn          33\n",
       "                         Declined           26\n",
       "Anticipated              Anticipated         3\n",
       "Submitted                Submitted           1\n",
       "dtype: int64"
      ]
     },
     "execution_count": 96,
     "metadata": {},
     "output_type": "execute_result"
    }
   ],
   "source": [
    "proposals[['PROPOSAL_STATUS_GROUPED', 'PROPOSAL_STATUS']].head(100).value_counts()"
   ]
  },
  {
   "attachments": {},
   "cell_type": "markdown",
   "metadata": {},
   "source": [
    "__Proposal stage rules__\n",
    "\n",
    "Ancipated: use start date\n",
    "\n",
    "Funded/Approved: use close date\n",
    "\n",
    "Declined/Withdrawn: use close date\n",
    "\n",
    "Submitted: use ask date, if available; else for funded/approved and declined/withdrawn, use close date"
   ]
  },
  {
   "cell_type": "code",
   "execution_count": null,
   "metadata": {},
   "outputs": [],
   "source": []
  }
 ],
 "metadata": {
  "kernelspec": {
   "display_name": "base",
   "language": "python",
   "name": "python3"
  },
  "language_info": {
   "codemirror_mode": {
    "name": "ipython",
    "version": 3
   },
   "file_extension": ".py",
   "mimetype": "text/x-python",
   "name": "python",
   "nbconvert_exporter": "python",
   "pygments_lexer": "ipython3",
   "version": "3.9.13"
  },
  "orig_nbformat": 4,
  "vscode": {
   "interpreter": {
    "hash": "ad2bdc8ecc057115af97d19610ffacc2b4e99fae6737bb82f5d7fb13d2f2c186"
   }
  }
 },
 "nbformat": 4,
 "nbformat_minor": 2
}
